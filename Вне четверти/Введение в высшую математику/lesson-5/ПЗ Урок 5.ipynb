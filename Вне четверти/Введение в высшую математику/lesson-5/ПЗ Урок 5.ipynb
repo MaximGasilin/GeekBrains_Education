{
 "cells": [
  {
   "cell_type": "code",
   "execution_count": 1,
   "metadata": {},
   "outputs": [
    {
     "name": "stdout",
     "output_type": "stream",
     "text": [
      "23 - Красное\n",
      "17 - Черное\n",
      "5 - Красное\n",
      "10 - Черное\n",
      "22 - Черное\n",
      "34 - Красное\n",
      "22 - Черное\n",
      "28 - Черное\n",
      "18 - Красное\n",
      "31 - Черное\n"
     ]
    }
   ],
   "source": [
    "import numpy as np\n",
    "\n",
    "nickname = ['Зеро', 'Красное', 'Черное', 'Красное', 'Черное', 'Красное', 'Черное',\n",
    "            'Красное', 'Черное', 'Красное', 'Черное', 'Черное', 'Красное',\n",
    "            'Черное', 'Красное', 'Черное', 'Красное', 'Черное', 'Красное',\n",
    "            'Красное', 'Черное', 'Красное', 'Черное', 'Красное', 'Черное',\n",
    "            'Красное', 'Черное', 'Красное', 'Черное', 'Черное', 'Красное',\n",
    "            'Черное', 'Красное', 'Черное', 'Красное', 'Черное', 'Красное']\n",
    "for i in range(0, 10):\n",
    "    x = np.random.randint(0, 36)\n",
    "    print(f'{x} - {nickname[x]}')"
   ]
  },
  {
   "cell_type": "code",
   "execution_count": 10,
   "metadata": {},
   "outputs": [
    {
     "name": "stdout",
     "output_type": "stream",
     "text": [
      "Введите пожалуйста первое число от 0 до 36: 11\n",
      "Введите пожалуйста второе число от 0 до 36: 35\n",
      "Согласно правилу сложения вероятностей. При равновероятных событиях (1/37 вероятность каждого) вероятность выпадения одного из двух любых должна быть равна 1/37 + 1/37 = 2/37 = 0,054054054\n",
      "Теоретическая вероятность выпадения числа 11 равна 0,027027027. Практически, при 10000 случайных событий получилось в 0.025 % случаев\n",
      "Теоретическая вероятность выпадения числа 35 равна 0,027027027. Практически, при 10000 случайных событий получилось в 0.0265 % случаев\n",
      "Практически, при 10000 случайных событий выпадение 11 или 35 получилось в 0.0515*100 % случаев\n",
      "Что очень похоже на правду\n"
     ]
    }
   ],
   "source": [
    "import numpy as np\n",
    "\n",
    "\n",
    "p1 = int(input('Введите пожалуйста первое число от 0 до 36: '))\n",
    "p2 = int(input('Введите пожалуйста второе число от 0 до 36: '))\n",
    "quantity = 10000\n",
    "\n",
    "count = 0\n",
    "result = [0]*37\n",
    "while count < quantity:\n",
    "    x = np.random.randint(0, 37)\n",
    "    result[x] += 1\n",
    "    count += 1\n",
    "\n",
    "print('Согласно правилу сложения вероятностей. При равновероятных событиях (1/37 вероятность каждого) '\n",
    "      'вероятность выпадения одного из двух любых должна быть равна 1/37 + 1/37 = 2/37 = 0,054054054')\n",
    "print(f'Теоретическая вероятность выпадения числа {p1} равна 0,027027027. Практически, при {quantity}'\n",
    "      f' случайных событий получилось в {result[p1]/quantity} % случаев')\n",
    "print(f'Теоретическая вероятность выпадения числа {p2} равна 0,027027027. Практически, при {quantity}'\n",
    "      f' случайных событий получилось в {result[p2]/quantity} % случаев')\n",
    "print(f'Практически, при {quantity}'\n",
    "      f' случайных событий выпадение {p1} или {p2} получилось в {(result[p1]+result[p2])/quantity}*100 % случаев')\n",
    "\n",
    "print('Что очень похоже на правду')"
   ]
  },
  {
   "cell_type": "code",
   "execution_count": 5,
   "metadata": {},
   "outputs": [
    {
     "data": {
      "image/png": "[encoded data removed]",
      "text/plain": [
       "<Figure size 432x288 with 1 Axes>"
      ]
     },
     "metadata": {
      "needs_background": "light"
     },
     "output_type": "display_data"
    }
   ],
   "source": [
    "import numpy as np\n",
    "from matplotlib import pyplot as plt\n",
    "\n",
    "values = [];\n",
    "for i in range(0, 10):\n",
    "    src = np.random.rand(10)\n",
    "    values.append(sum(src))\n",
    "\n",
    "result = np.array(values)\n",
    "plt.hist(result, 5)\n",
    "plt.xlabel('x')\n",
    "plt.ylabel('Probability')\n",
    "plt.title('Histogram')\n",
    "plt.show()"
   ]
  },
  {
   "cell_type": "code",
   "execution_count": 7,
   "metadata": {},
   "outputs": [
    {
     "name": "stdout",
     "output_type": "stream",
     "text": [
      "n = 4, k = 2\n",
      "Из 100000 попыток удачных - 37282. Т.е. вероятность = 0.37282\n",
      "Теоретический расчет P4(2) = C_4^2 * 1 / 2^4 = 0.375\n",
      "\n",
      "n = 4, k = 3\n",
      "Из 100000 попыток удачных - 25013. Т.е. вероятность = 0.25013\n",
      "Теоретический расчет P4(3) = C_4^3 * 1 / 2^4 = 0.25\n",
      "\n",
      "n = 6, k = 4\n",
      "Из 100000 попыток удачных - 23451. Т.е. вероятность = 0.23451\n",
      "Теоретический расчет P6(4) = C_6^4 * 1 / 2^6 = 0.234375\n",
      "\n",
      "n = 8, k = 5\n",
      "Из 100000 попыток удачных - 21841. Т.е. вероятность = 0.21841\n",
      "Теоретический расчет P8(5) = C_8^5 * 1 / 2^8 = 0.21875\n"
     ]
    }
   ],
   "source": [
    "import numpy as np\n",
    "import itertools\n",
    "\n",
    "def С(n, k):\n",
    "    if 0 <= k <= n:\n",
    "        nn = 1\n",
    "        kk = 1\n",
    "        for t in range(1, min(k, n - k) + 1):\n",
    "            nn *= n\n",
    "            kk *= t\n",
    "            n -= 1\n",
    "        return nn // kk\n",
    "    else:\n",
    "        return 0\n",
    "\n",
    "\n",
    "def task_3(n, k):\n",
    "    qp, q = 0, 100000\n",
    "\n",
    "    x = np.array([0]*q)\n",
    "    for i in range(0, n):\n",
    "        x = x + np.random.randint(0, 2, q)\n",
    "\n",
    "    for i in range(0, q):\n",
    "        if x[i] == k:\n",
    "            qp += 1\n",
    "    # print(a, b, c ,d)\n",
    "    # print(x)\n",
    "    print(f'Из {q} попыток удачных - {qp}. Т.е. вероятность = {qp/q}')\n",
    "    # print(C_(4, 2), С(4, 2))\n",
    "    print(f'Теоретический расчет P{n}({k}) = C_{n}^{k} * 1 / 2^{n} = {С(n, k)/2**n}')\n",
    "\n",
    "print('n = 4, k = 2')\n",
    "task_3(4, 2)\n",
    "print()\n",
    "print('n = 4, k = 3')\n",
    "task_3(4, 3)\n",
    "print()\n",
    "print('n = 6, k = 4')\n",
    "task_3(6, 4)\n",
    "print()\n",
    "print('n = 8, k = 5')\n",
    "task_3(8, 5)\n"
   ]
  },
  {
   "cell_type": "code",
   "execution_count": 8,
   "metadata": {},
   "outputs": [
    {
     "name": "stdout",
     "output_type": "stream",
     "text": [
      "01\n",
      "10\n",
      "012\n",
      "021\n",
      "102\n",
      "120\n",
      "201\n",
      "210\n",
      "01234\n",
      "01243\n",
      "01324\n",
      "01342\n",
      "01423\n",
      "01432\n",
      "02134\n",
      "02143\n",
      "02314\n",
      "02341\n",
      "02413\n",
      "02431\n",
      "03124\n",
      "03142\n",
      "03214\n",
      "03241\n",
      "03412\n",
      "03421\n",
      "04123\n",
      "04132\n",
      "04213\n",
      "04231\n",
      "04312\n",
      "04321\n",
      "10234\n",
      "10243\n",
      "10324\n",
      "10342\n",
      "10423\n",
      "10432\n",
      "12034\n",
      "12043\n",
      "12304\n",
      "12340\n",
      "12403\n",
      "12430\n",
      "13024\n",
      "13042\n",
      "13204\n",
      "13240\n",
      "13402\n",
      "13420\n",
      "14023\n",
      "14032\n",
      "14203\n",
      "14230\n",
      "14302\n",
      "14320\n",
      "20134\n",
      "20143\n",
      "20314\n",
      "20341\n",
      "20413\n",
      "20431\n",
      "21034\n",
      "21043\n",
      "21304\n",
      "21340\n",
      "21403\n",
      "21430\n",
      "23014\n",
      "23041\n",
      "23104\n",
      "23140\n",
      "23401\n",
      "23410\n",
      "24013\n",
      "24031\n",
      "24103\n",
      "24130\n",
      "24301\n",
      "24310\n",
      "30124\n",
      "30142\n",
      "30214\n",
      "30241\n",
      "30412\n",
      "30421\n",
      "31024\n",
      "31042\n",
      "31204\n",
      "31240\n",
      "31402\n",
      "31420\n",
      "32014\n",
      "32041\n",
      "32104\n",
      "32140\n",
      "32401\n",
      "32410\n",
      "34012\n",
      "34021\n",
      "34102\n",
      "34120\n",
      "34201\n",
      "34210\n",
      "40123\n",
      "40132\n",
      "40213\n",
      "40231\n",
      "40312\n",
      "40321\n",
      "41023\n",
      "41032\n",
      "41203\n",
      "41230\n",
      "41302\n",
      "41320\n",
      "42013\n",
      "42031\n",
      "42103\n",
      "42130\n",
      "42301\n",
      "42310\n",
      "43012\n",
      "43021\n",
      "43102\n",
      "43120\n",
      "43201\n",
      "43210\n"
     ]
    }
   ],
   "source": [
    "import itertools\n",
    "\n",
    "\n",
    "# Перестановки. Это permutations, когда n = k\n",
    "for p in itertools.permutations(\"01\", 2):\n",
    "    print(''.join(p))\n",
    "for p in itertools.permutations(\"012\", 3):\n",
    "    print(''.join(p))\n",
    "for p in itertools.permutations(\"01234\", 5):\n",
    "    print(''.join(p))"
   ]
  },
  {
   "cell_type": "code",
   "execution_count": 9,
   "metadata": {},
   "outputs": [
    {
     "name": "stdout",
     "output_type": "stream",
     "text": [
      "[[1.         0.67983905]\n",
      " [0.67983905 1.        ]]\n",
      "0.474255915642893 0.2631788400981014\n",
      "0.47425591564289254 0.26317884009810144\n",
      "\n",
      "Коэффициент коррекляции, рассчитанный по формуле из урока - 0.6798390495143617\n"
     ]
    },
    {
     "name": "stderr",
     "output_type": "stream",
     "text": [
      "/srv/conda/envs/notebook/lib/python3.6/site-packages/ipykernel_launcher.py:21: FutureWarning: `rcond` parameter will change to the default of machine precision times ``max(M, N)`` where M and N are the input matrix dimensions.\n",
      "To use the future default and silence this warning we advise to pass `rcond=None`, to keep using the old, explicitly pass `rcond=-1`.\n"
     ]
    },
    {
     "data": {
      "image/png": "[encoded data removed]",
      "text/plain": [
       "<Figure size 432x288 with 1 Axes>"
      ]
     },
     "metadata": {
      "needs_background": "light"
     },
     "output_type": "display_data"
    }
   ],
   "source": [
    "import numpy as np\n",
    "from matplotlib import pyplot as plt\n",
    "\n",
    "n = 100\n",
    "r = 0.5\n",
    "x = np.random.rand(n)\n",
    "y = r * x + (1 - r) * np.random.rand(n)\n",
    "plt.plot(x, y, 'o')\n",
    "plt.xlabel('x')\n",
    "plt.ylabel('y')\n",
    "plt.grid(True)\n",
    "# plt.show()\n",
    "\n",
    "c = np.corrcoef(x, y)\n",
    "print(c)\n",
    "\n",
    "a = (np.sum(x)*np.sum(y) - n * np.sum(x*y)) / (np.sum(x)*np.sum(x) - n * np.sum(x*x))\n",
    "b = (np.sum(y) - a * np.sum(x))/n\n",
    "\n",
    "A = np.vstack([x, np.ones(len(x))]).T\n",
    "a1, b1 = np.linalg.lstsq(A, y)[0]\n",
    "\n",
    "print(a, b)\n",
    "print(a1, b1)\n",
    "\n",
    "\n",
    "x_avg = np.average(x)\n",
    "y_avg = np.average(y)\n",
    "# print(f'x_m, y_m = {x_avg}, {y_avg}')\n",
    "correlation = np.sum((x-x_avg)*(y-y_avg)) / np.sqrt(np.sum((x-x_avg)*(x-x_avg))*np.sum((y-y_avg)*(y-y_avg)))\n",
    "print()\n",
    "print(f'Коэффициент коррекляции, рассчитанный по формуле из урока - {correlation}')\n",
    "\n",
    "plt.plot([0, 1], [b, a+b])\n",
    "plt.show()\n"
   ]
  },
  {
   "cell_type": "code",
   "execution_count": null,
   "metadata": {},
   "outputs": [],
   "source": []
  }
 ],
 "metadata": {
  "kernelspec": {
   "display_name": "Python 3",
   "language": "python",
   "name": "python3"
  },
  "language_info": {
   "codemirror_mode": {
    "name": "ipython",
    "version": 3
   },
   "file_extension": ".py",
   "mimetype": "text/x-python",
   "name": "python",
   "nbconvert_exporter": "python",
   "pygments_lexer": "ipython3",
   "version": "3.6.10"
  }
 },
 "nbformat": 4,
 "nbformat_minor": 4
}
