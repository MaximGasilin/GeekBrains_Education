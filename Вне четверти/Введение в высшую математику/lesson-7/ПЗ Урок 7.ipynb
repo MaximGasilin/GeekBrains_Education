{
 "cells": [
  {
   "cell_type": "code",
   "execution_count": 1,
   "metadata": {},
   "outputs": [
    {
     "name": "stdout",
     "output_type": "stream",
     "text": [
      "[-9.2         0.9         6.46666667]\n"
     ]
    }
   ],
   "source": [
    "import numpy as np\n",
    "\n",
    "A = np.array([[1, 2, 3], [4, 0, 6], [7, 8, 9]])\n",
    "B = np.array([12, 2, 1])\n",
    "\n",
    "S = np.linalg.solve(A, B)\n",
    "print(S)"
   ]
  },
  {
   "cell_type": "code",
   "execution_count": 2,
   "metadata": {},
   "outputs": [
    {
     "name": "stdout",
     "output_type": "stream",
     "text": [
      "(array([ 1.13919353, -0.90498444, -0.9009803 ]), array([0.71523211]), 3, array([15.2817306 ,  9.59852942,  3.65197794]))\n"
     ]
    },
    {
     "name": "stderr",
     "output_type": "stream",
     "text": [
      "/srv/conda/envs/notebook/lib/python3.6/site-packages/ipykernel_launcher.py:6: FutureWarning: `rcond` parameter will change to the default of machine precision times ``max(M, N)`` where M and N are the input matrix dimensions.\n",
      "To use the future default and silence this warning we advise to pass `rcond=None`, to keep using the old, explicitly pass `rcond=-1`.\n",
      "  \n"
     ]
    }
   ],
   "source": [
    "import numpy as np\n",
    "\n",
    "A = np.array([[1, 2, -1], [3, -4, 0], [8, -5, 2], [2, 0, -5], [11, 4, -7]])\n",
    "B = np.array([1, 7, 12, 7, 15])\n",
    "\n",
    "S = np.linalg.lstsq(A, B)\n",
    "print(S)"
   ]
  },
  {
   "cell_type": "code",
   "execution_count": 4,
   "metadata": {},
   "outputs": [
    {
     "name": "stdout",
     "output_type": "stream",
     "text": [
      "[[ 1  2  3 12]\n",
      " [ 4  5  6  2]\n",
      " [ 7  8  9  1]]\n",
      "Ранг матрицы A:2\n",
      "Ранг матрицы C:3\n",
      "[[1 2 3 1]\n",
      " [4 5 6 2]\n",
      " [7 8 9 3]]\n",
      "Ранг матрицы A:2\n",
      "Ранг матрицы C:2\n",
      "Результат работы функции np.linalg.lstsq: (array([[0.07142857, 0.14285714, 0.21428571],\n",
      "       [0.14285714, 0.28571429, 0.42857143],\n",
      "       [0.21428571, 0.42857143, 0.64285714]]), array([], dtype=float64), 1, array([3.74165739]))\n",
      "Псевдорешение: [[0.07142857 0.14285714 0.21428571]\n",
      " [0.14285714 0.28571429 0.42857143]\n",
      " [0.21428571 0.42857143 0.64285714]]\n"
     ]
    },
    {
     "name": "stderr",
     "output_type": "stream",
     "text": [
      "/srv/conda/envs/notebook/lib/python3.6/site-packages/ipykernel_launcher.py:17: FutureWarning: `rcond` parameter will change to the default of machine precision times ``max(M, N)`` where M and N are the input matrix dimensions.\n",
      "To use the future default and silence this warning we advise to pass `rcond=None`, to keep using the old, explicitly pass `rcond=-1`.\n"
     ]
    }
   ],
   "source": [
    "import numpy as np\n",
    "\n",
    "A = np.array([[1, 2, 3], [4, 5, 6], [7, 8, 9]])\n",
    "B = np.array([[12, 2, 1]])\n",
    "C = np.concatenate((A, B.T), axis=1)\n",
    "print(C)\n",
    "print(f'Ранг матрицы A:{np.linalg.matrix_rank(A, 0.0001)}')\n",
    "print(f'Ранг матрицы C:{np.linalg.matrix_rank(C, 0.0001)}')\n",
    "\n",
    "A = np.array([[1, 2, 3], [4, 5, 6], [7, 8, 9]])\n",
    "B = np.array([[1, 2, 3]])\n",
    "C = np.concatenate((A, B.T), axis=1)\n",
    "print(C)\n",
    "print(f'Ранг матрицы A:{np.linalg.matrix_rank(A, 0.0001)}')\n",
    "print(f'Ранг матрицы C:{np.linalg.matrix_rank(C, 0.0001)}')\n",
    "\n",
    "S = np.linalg.lstsq(A[:1], B[:1])\n",
    "\n",
    "print(f'Результат работы функции np.linalg.lstsq: {S}')\n",
    "print(f'Псевдорешение: {S[0]}')"
   ]
  },
  {
   "cell_type": "code",
   "execution_count": 5,
   "metadata": {},
   "outputs": [
    {
     "name": "stdout",
     "output_type": "stream",
     "text": [
      "[[0. 1. 0.]\n",
      " [0. 0. 1.]\n",
      " [1. 0. 0.]]\n",
      "[[ 1.    0.    0.  ]\n",
      " [ 0.25  1.    0.  ]\n",
      " [ 0.5  -0.4   1.  ]]\n",
      "[[  4.    28.    73.  ]\n",
      " [  0.    -5.   -15.25]\n",
      " [  0.     0.   -21.6 ]]\n",
      "[ 5.54166667 -0.14583333 -0.08333333]\n"
     ]
    }
   ],
   "source": [
    "import numpy as np\n",
    "import scipy.linalg\n",
    "\n",
    "A = np.array([[1, 2, 3], [2, 16, 21], [4, 28, 73]])\n",
    "P, L, U = scipy.linalg.lu(A)\n",
    "print(P)\n",
    "print(L)\n",
    "print(U)\n",
    "\n",
    "B = np.array([5, 7, 12])\n",
    "S = np.linalg.solve(A, B)\n",
    "print(S)"
   ]
  },
  {
   "cell_type": "code",
   "execution_count": 6,
   "metadata": {},
   "outputs": [
    {
     "name": "stdout",
     "output_type": "stream",
     "text": [
      "(array([ 1.38191882, -0.18081181,  0.0202952 ]), array([], dtype=float64), 2, array([9.65316119, 2.41173777]))\n"
     ]
    },
    {
     "name": "stderr",
     "output_type": "stream",
     "text": [
      "/srv/conda/envs/notebook/lib/python3.6/site-packages/ipykernel_launcher.py:7: FutureWarning: `rcond` parameter will change to the default of machine precision times ``max(M, N)`` where M and N are the input matrix dimensions.\n",
      "To use the future default and silence this warning we advise to pass `rcond=None`, to keep using the old, explicitly pass `rcond=-1`.\n",
      "  import sys\n"
     ]
    },
    {
     "data": {
      "image/png": "[encoded data removed]",
      "text/plain": [
       "<Figure size 432x288 with 1 Axes>"
      ]
     },
     "metadata": {
      "needs_background": "light"
     },
     "output_type": "display_data"
    }
   ],
   "source": [
    "import numpy as np\n",
    "from matplotlib import pyplot as plt\n",
    "\n",
    "A = np.array([[1, 2, -1], [8, -5, 2]])\n",
    "B = np.array([1, 12])\n",
    "\n",
    "S = np.linalg.lstsq(A, B)\n",
    "print(S)\n",
    "\n",
    "x = np.linspace(1.3, 1.4, 500)\n",
    "plt.plot(x, 542*x*x - 1498*x + 1037)\n",
    "\n",
    "plt.xlabel(\"x\")\n",
    "plt.ylabel(\"y\")\n",
    "\n",
    "plt.grid(True)\n",
    "plt.show()"
   ]
  },
  {
   "cell_type": "code",
   "execution_count": 8,
   "metadata": {},
   "outputs": [
    {
     "name": "stdout",
     "output_type": "stream",
     "text": [
      "Q : [[-0.12309149  0.90453403  0.40824829]\n",
      " [-0.49236596  0.30151134 -0.81649658]\n",
      " [-0.86164044 -0.30151134  0.40824829]]\n",
      "R : [[-8.12403840e+00 -9.60113630e+00 -1.10782342e+01]\n",
      " [ 0.00000000e+00  9.04534034e-01  1.80906807e+00]\n",
      " [ 0.00000000e+00  0.00000000e+00 -7.58790979e-16]]\n",
      "[[1. 2. 3.]\n",
      " [4. 5. 6.]\n",
      " [7. 8. 9.]]\n",
      "[[ 1.00000000e+00 -2.48218629e-16 -2.62094065e-17]\n",
      " [-2.48218629e-16  1.00000000e+00  2.82872043e-17]\n",
      " [-2.62094065e-17  2.82872043e-17  1.00000000e+00]]\n",
      "R1: [[-8.1240384  -9.6011363 ]\n",
      " [ 0.          0.90453403]]\n",
      "B1 : [-1.21860576e+01  3.33066907e-15]\n",
      "X1 : [1.50000000e+00 3.68219321e-15]\n",
      "\n",
      "Псевдорешение X : [1.50000000e+00 3.68219321e-15 0.00000000e+00]\n",
      "Норма X : 1.499999999999996\n"
     ]
    }
   ],
   "source": [
    "import numpy as np\n",
    "\n",
    "A = np.array([[1, 2, 3], [4, 5, 6], [7, 8, 9]])\n",
    "B = np.array([2, 5, 11])\n",
    "Q, R = np.linalg.qr(A)\n",
    "print(f'Q : {Q}')\n",
    "print(f'R : {R}')\n",
    "\n",
    "print(np.dot(Q, R))\n",
    "print(np.dot(np.transpose(Q), Q))\n",
    "\n",
    "R1 = R[:2, :2]\n",
    "print(f'R1: {R1}')\n",
    "\n",
    "B1 = np.dot(np.transpose(Q), B)[:2]\n",
    "print(f'B1 : {B1}')\n",
    "\n",
    "X1 = np.linalg.solve(R1, B1)\n",
    "print(f'X1 : {X1}')\n",
    "print()\n",
    "X = np.append(X1, 0)\n",
    "print(f'Псевдорешение X : {X}')\n",
    "print(f'Норма X : {np.linalg.norm(X)}')"
   ]
  },
  {
   "cell_type": "code",
   "execution_count": null,
   "metadata": {},
   "outputs": [],
   "source": []
  }
 ],
 "metadata": {
  "kernelspec": {
   "display_name": "Python 3",
   "language": "python",
   "name": "python3"
  },
  "language_info": {
   "codemirror_mode": {
    "name": "ipython",
    "version": 3
   },
   "file_extension": ".py",
   "mimetype": "text/x-python",
   "name": "python",
   "nbconvert_exporter": "python",
   "pygments_lexer": "ipython3",
   "version": "3.6.10"
  }
 },
 "nbformat": 4,
 "nbformat_minor": 4
}
