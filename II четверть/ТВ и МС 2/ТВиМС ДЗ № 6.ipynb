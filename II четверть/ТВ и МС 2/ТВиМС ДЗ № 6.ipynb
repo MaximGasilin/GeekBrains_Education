{
 "cells": [
  {
   "cell_type": "markdown",
   "id": "58176472",
   "metadata": {},
   "source": [
    "### Задание 1.\n",
    "Даны значения величины заработной платы заемщиков банка (zp) и значения их поведенческого кредитного скоринга (ks):\n",
    "zp = [35, 45, 190, 200, 40, 70, 54, 150, 120, 110],\n",
    "ks = [401, 574, 874, 919, 459, 739, 653, 902, 746, 832].\n",
    "Найдите ковариацию этих двух величин с помощью элементарных действий, а затем с помощью функции cov из numpy\n",
    "Полученные значения должны быть равны.\n",
    "Найдите коэффициент корреляции Пирсона с помощью ковариации и среднеквадратичных отклонений двух признаков,\n",
    "а затем с использованием функций из библиотек numpy и pandas.\n",
    "\n"
   ]
  },
  {
   "cell_type": "code",
   "execution_count": 3,
   "id": "cffa6340",
   "metadata": {},
   "outputs": [],
   "source": [
    "import numpy as np\n",
    "import pandas as pd\n",
    "import scipy.stats as stats\n",
    "import pandas as pd"
   ]
  },
  {
   "cell_type": "code",
   "execution_count": 4,
   "id": "55791c33",
   "metadata": {},
   "outputs": [],
   "source": [
    "zp = np.array([35, 45, 190, 200, 40, 70, 54, 150, 120, 110])\n",
    "ks = np.array([401, 574, 874, 919, 459, 739, 653, 902, 746, 832])"
   ]
  },
  {
   "cell_type": "code",
   "execution_count": 5,
   "id": "482f3a4e",
   "metadata": {},
   "outputs": [],
   "source": [
    "cov = ((zp - zp.mean()) * (ks - ks.mean())).sum() / (zp.shape[0] - 1) # Считаем не смещенную ковариацию"
   ]
  },
  {
   "cell_type": "code",
   "execution_count": 6,
   "id": "97cc3e9f",
   "metadata": {},
   "outputs": [
    {
     "data": {
      "text/plain": [
       "10175.37777777778"
      ]
     },
     "execution_count": 6,
     "metadata": {},
     "output_type": "execute_result"
    }
   ],
   "source": [
    "cov"
   ]
  },
  {
   "cell_type": "code",
   "execution_count": 7,
   "id": "00459917",
   "metadata": {},
   "outputs": [
    {
     "data": {
      "text/plain": [
       "array([[ 3882.93333333, 10175.37777778],\n",
       "       [10175.37777778, 33854.32222222]])"
      ]
     },
     "execution_count": 7,
     "metadata": {},
     "output_type": "execute_result"
    }
   ],
   "source": [
    "np.cov(zp, ks, ddof=1)"
   ]
  },
  {
   "cell_type": "code",
   "execution_count": 8,
   "id": "38424be0",
   "metadata": {},
   "outputs": [
    {
     "data": {
      "text/plain": [
       "0.8874900920739164"
      ]
     },
     "execution_count": 8,
     "metadata": {},
     "output_type": "execute_result"
    }
   ],
   "source": [
    "cov / (zp.std(ddof=1) * ks.std(ddof=1))"
   ]
  },
  {
   "cell_type": "code",
   "execution_count": 9,
   "id": "7f707a4e",
   "metadata": {},
   "outputs": [
    {
     "data": {
      "text/plain": [
       "array([[1.        , 0.88749009],\n",
       "       [0.88749009, 1.        ]])"
      ]
     },
     "execution_count": 9,
     "metadata": {},
     "output_type": "execute_result"
    }
   ],
   "source": [
    "np.corrcoef(zp, ks)"
   ]
  },
  {
   "cell_type": "code",
   "execution_count": 30,
   "id": "c99bee05",
   "metadata": {},
   "outputs": [
    {
     "data": {
      "text/html": [
       "<div>\n",
       "<style scoped>\n",
       "    .dataframe tbody tr th:only-of-type {\n",
       "        vertical-align: middle;\n",
       "    }\n",
       "\n",
       "    .dataframe tbody tr th {\n",
       "        vertical-align: top;\n",
       "    }\n",
       "\n",
       "    .dataframe thead th {\n",
       "        text-align: right;\n",
       "    }\n",
       "</style>\n",
       "<table border=\"1\" class=\"dataframe\">\n",
       "  <thead>\n",
       "    <tr style=\"text-align: right;\">\n",
       "      <th></th>\n",
       "      <th>zp</th>\n",
       "      <th>ks</th>\n",
       "    </tr>\n",
       "  </thead>\n",
       "  <tbody>\n",
       "    <tr>\n",
       "      <th>0</th>\n",
       "      <td>35</td>\n",
       "      <td>401</td>\n",
       "    </tr>\n",
       "    <tr>\n",
       "      <th>1</th>\n",
       "      <td>45</td>\n",
       "      <td>574</td>\n",
       "    </tr>\n",
       "    <tr>\n",
       "      <th>2</th>\n",
       "      <td>190</td>\n",
       "      <td>874</td>\n",
       "    </tr>\n",
       "    <tr>\n",
       "      <th>3</th>\n",
       "      <td>200</td>\n",
       "      <td>919</td>\n",
       "    </tr>\n",
       "    <tr>\n",
       "      <th>4</th>\n",
       "      <td>40</td>\n",
       "      <td>459</td>\n",
       "    </tr>\n",
       "    <tr>\n",
       "      <th>5</th>\n",
       "      <td>70</td>\n",
       "      <td>739</td>\n",
       "    </tr>\n",
       "    <tr>\n",
       "      <th>6</th>\n",
       "      <td>54</td>\n",
       "      <td>653</td>\n",
       "    </tr>\n",
       "    <tr>\n",
       "      <th>7</th>\n",
       "      <td>150</td>\n",
       "      <td>902</td>\n",
       "    </tr>\n",
       "    <tr>\n",
       "      <th>8</th>\n",
       "      <td>120</td>\n",
       "      <td>746</td>\n",
       "    </tr>\n",
       "    <tr>\n",
       "      <th>9</th>\n",
       "      <td>110</td>\n",
       "      <td>832</td>\n",
       "    </tr>\n",
       "  </tbody>\n",
       "</table>\n",
       "</div>"
      ],
      "text/plain": [
       "    zp   ks\n",
       "0   35  401\n",
       "1   45  574\n",
       "2  190  874\n",
       "3  200  919\n",
       "4   40  459\n",
       "5   70  739\n",
       "6   54  653\n",
       "7  150  902\n",
       "8  120  746\n",
       "9  110  832"
      ]
     },
     "execution_count": 30,
     "metadata": {},
     "output_type": "execute_result"
    }
   ],
   "source": [
    "df=pd.DataFrame(data={'zp':zp, 'ks':ks})\n",
    "df"
   ]
  },
  {
   "cell_type": "code",
   "execution_count": 31,
   "id": "4f726620",
   "metadata": {},
   "outputs": [
    {
     "data": {
      "text/html": [
       "<div>\n",
       "<style scoped>\n",
       "    .dataframe tbody tr th:only-of-type {\n",
       "        vertical-align: middle;\n",
       "    }\n",
       "\n",
       "    .dataframe tbody tr th {\n",
       "        vertical-align: top;\n",
       "    }\n",
       "\n",
       "    .dataframe thead th {\n",
       "        text-align: right;\n",
       "    }\n",
       "</style>\n",
       "<table border=\"1\" class=\"dataframe\">\n",
       "  <thead>\n",
       "    <tr style=\"text-align: right;\">\n",
       "      <th></th>\n",
       "      <th>zp</th>\n",
       "      <th>ks</th>\n",
       "    </tr>\n",
       "  </thead>\n",
       "  <tbody>\n",
       "    <tr>\n",
       "      <th>zp</th>\n",
       "      <td>1.00000</td>\n",
       "      <td>0.88749</td>\n",
       "    </tr>\n",
       "    <tr>\n",
       "      <th>ks</th>\n",
       "      <td>0.88749</td>\n",
       "      <td>1.00000</td>\n",
       "    </tr>\n",
       "  </tbody>\n",
       "</table>\n",
       "</div>"
      ],
      "text/plain": [
       "         zp       ks\n",
       "zp  1.00000  0.88749\n",
       "ks  0.88749  1.00000"
      ]
     },
     "execution_count": 31,
     "metadata": {},
     "output_type": "execute_result"
    }
   ],
   "source": [
    "df.corr()"
   ]
  },
  {
   "cell_type": "markdown",
   "id": "4dbf84cd",
   "metadata": {},
   "source": [
    "#### Ответ: Не смещенная Ковариация =  10175.37777777778; Корреляция Пирсона = 0.88749009"
   ]
  },
  {
   "cell_type": "markdown",
   "id": "52c1553f",
   "metadata": {},
   "source": [
    "### Задание 2.\n",
    "Измерены значения IQ выборки студентов,\n",
    "обучающихся в местных технических вузах:\n",
    "131, 125, 115, 122, 131, 115, 107, 99, 125, 111.\n",
    "Известно, что в генеральной совокупности IQ распределен нормально.\n",
    "Найдите доверительный интервал для математического ожидания с надежностью 0.95.\n"
   ]
  },
  {
   "cell_type": "code",
   "execution_count": 3,
   "id": "464dea41",
   "metadata": {},
   "outputs": [],
   "source": [
    "x = np.array([131, 125, 115, 122, 131, 115, 107, 99, 125, 111])"
   ]
  },
  {
   "cell_type": "code",
   "execution_count": 17,
   "id": "9d76bd31",
   "metadata": {},
   "outputs": [],
   "source": [
    "X=x.mean()\n",
    "n = 10\n",
    "std = x.std(ddof=1) # Берем несмещенную оценку т.к. считаем из выборки\n",
    "alpha = 0.05\n",
    "t = stats.t.ppf(alpha/2, df=n-1) # Используем T распределение, т.к. дисперсия генеральной совокупности не известна.\n"
   ]
  },
  {
   "cell_type": "code",
   "execution_count": 20,
   "id": "bdbd34f0",
   "metadata": {},
   "outputs": [],
   "source": [
    "l_value = X+t*(std/(n**0.5))"
   ]
  },
  {
   "cell_type": "code",
   "execution_count": 21,
   "id": "c250cfcf",
   "metadata": {},
   "outputs": [],
   "source": [
    "r_value = X-t*(std/(n**0.5))"
   ]
  },
  {
   "cell_type": "code",
   "execution_count": 22,
   "id": "d6d13d38",
   "metadata": {},
   "outputs": [
    {
     "data": {
      "text/plain": [
       "[110.55608365158724, 125.64391634841274]"
      ]
     },
     "execution_count": 22,
     "metadata": {},
     "output_type": "execute_result"
    }
   ],
   "source": [
    "[l_value, r_value]"
   ]
  },
  {
   "cell_type": "markdown",
   "id": "2fdcce44",
   "metadata": {},
   "source": [
    "#### Ответ: [110.55608365158724, 125.64391634841274]"
   ]
  },
  {
   "cell_type": "markdown",
   "id": "08bf2fef",
   "metadata": {},
   "source": [
    "### Задание 3.\n",
    "Известно, что рост футболистов в сборной распределен нормально\n",
    "с дисперсией генеральной совокупности, равной 25 кв.см. Объем выборки равен 27,\n",
    "среднее выборочное составляет 174.2. Найдите доверительный интервал для математического\n",
    "ожидания с надежностью 0.95.\n"
   ]
  },
  {
   "cell_type": "code",
   "execution_count": 28,
   "id": "34e35df7",
   "metadata": {},
   "outputs": [],
   "source": [
    "X = 174.2\n",
    "n = 27\n",
    "std = 5\n",
    "alpha = 0.05\n",
    "z = stats.norm.ppf(alpha/2) # Используем стандартное нормальное распределение, т.к. известна дисперсия ген совокупности\n"
   ]
  },
  {
   "cell_type": "code",
   "execution_count": 29,
   "id": "4bb1915c",
   "metadata": {},
   "outputs": [],
   "source": [
    "l_value = X+z*(std/(n**0.5))"
   ]
  },
  {
   "cell_type": "code",
   "execution_count": 30,
   "id": "42427d37",
   "metadata": {},
   "outputs": [],
   "source": [
    "r_value = X-z*(std/(n**0.5))"
   ]
  },
  {
   "cell_type": "code",
   "execution_count": 31,
   "id": "7eef122e",
   "metadata": {},
   "outputs": [
    {
     "data": {
      "text/plain": [
       "[172.3140237765397, 176.08597622346028]"
      ]
     },
     "execution_count": 31,
     "metadata": {},
     "output_type": "execute_result"
    }
   ],
   "source": [
    "[l_value, r_value]"
   ]
  },
  {
   "cell_type": "markdown",
   "id": "68fb986e",
   "metadata": {},
   "source": [
    "#### Ответ: [172.3140237765397, 176.08597622346028]"
   ]
  },
  {
   "cell_type": "code",
   "execution_count": null,
   "id": "076df989",
   "metadata": {},
   "outputs": [],
   "source": []
  }
 ],
 "metadata": {
  "kernelspec": {
   "display_name": "Python 3",
   "language": "python",
   "name": "python3"
  },
  "language_info": {
   "codemirror_mode": {
    "name": "ipython",
    "version": 3
   },
   "file_extension": ".py",
   "mimetype": "text/x-python",
   "name": "python",
   "nbconvert_exporter": "python",
   "pygments_lexer": "ipython3",
   "version": "3.8.8"
  }
 },
 "nbformat": 4,
 "nbformat_minor": 5
}
